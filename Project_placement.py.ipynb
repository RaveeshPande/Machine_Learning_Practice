{
 "cells": [
  {
   "cell_type": "code",
   "execution_count": 1,
   "id": "822210d6",
   "metadata": {},
   "outputs": [],
   "source": [
    "import numpy as np\n",
    "import pandas as pd"
   ]
  },
  {
   "cell_type": "code",
   "execution_count": 2,
   "id": "401f31d4",
   "metadata": {},
   "outputs": [],
   "source": [
    "df=pd.read_csv('placement.csv')"
   ]
  },
  {
   "cell_type": "code",
   "execution_count": 3,
   "id": "707b53ec",
   "metadata": {},
   "outputs": [
    {
     "data": {
      "text/html": [
       "<div>\n",
       "<style scoped>\n",
       "    .dataframe tbody tr th:only-of-type {\n",
       "        vertical-align: middle;\n",
       "    }\n",
       "\n",
       "    .dataframe tbody tr th {\n",
       "        vertical-align: top;\n",
       "    }\n",
       "\n",
       "    .dataframe thead th {\n",
       "        text-align: right;\n",
       "    }\n",
       "</style>\n",
       "<table border=\"1\" class=\"dataframe\">\n",
       "  <thead>\n",
       "    <tr style=\"text-align: right;\">\n",
       "      <th></th>\n",
       "      <th>Unnamed: 0</th>\n",
       "      <th>cgpa</th>\n",
       "      <th>iq</th>\n",
       "      <th>placement</th>\n",
       "    </tr>\n",
       "  </thead>\n",
       "  <tbody>\n",
       "    <tr>\n",
       "      <th>0</th>\n",
       "      <td>0</td>\n",
       "      <td>6.8</td>\n",
       "      <td>123.0</td>\n",
       "      <td>1</td>\n",
       "    </tr>\n",
       "    <tr>\n",
       "      <th>1</th>\n",
       "      <td>1</td>\n",
       "      <td>5.9</td>\n",
       "      <td>106.0</td>\n",
       "      <td>0</td>\n",
       "    </tr>\n",
       "    <tr>\n",
       "      <th>2</th>\n",
       "      <td>2</td>\n",
       "      <td>5.3</td>\n",
       "      <td>121.0</td>\n",
       "      <td>0</td>\n",
       "    </tr>\n",
       "    <tr>\n",
       "      <th>3</th>\n",
       "      <td>3</td>\n",
       "      <td>7.4</td>\n",
       "      <td>132.0</td>\n",
       "      <td>1</td>\n",
       "    </tr>\n",
       "    <tr>\n",
       "      <th>4</th>\n",
       "      <td>4</td>\n",
       "      <td>5.8</td>\n",
       "      <td>142.0</td>\n",
       "      <td>0</td>\n",
       "    </tr>\n",
       "  </tbody>\n",
       "</table>\n",
       "</div>"
      ],
      "text/plain": [
       "   Unnamed: 0  cgpa     iq  placement\n",
       "0           0   6.8  123.0          1\n",
       "1           1   5.9  106.0          0\n",
       "2           2   5.3  121.0          0\n",
       "3           3   7.4  132.0          1\n",
       "4           4   5.8  142.0          0"
      ]
     },
     "execution_count": 3,
     "metadata": {},
     "output_type": "execute_result"
    }
   ],
   "source": [
    "df.head()"
   ]
  },
  {
   "cell_type": "code",
   "execution_count": 4,
   "id": "3881c684",
   "metadata": {},
   "outputs": [
    {
     "data": {
      "text/plain": [
       "(100, 4)"
      ]
     },
     "execution_count": 4,
     "metadata": {},
     "output_type": "execute_result"
    }
   ],
   "source": [
    "df.shape"
   ]
  },
  {
   "cell_type": "code",
   "execution_count": 5,
   "id": "c9fb06a4",
   "metadata": {},
   "outputs": [],
   "source": [
    "# Need to remove the column unnamed as it is not needed:\n",
    "df=df.iloc[:,1:]"
   ]
  },
  {
   "cell_type": "code",
   "execution_count": 6,
   "id": "5e2d22d4",
   "metadata": {},
   "outputs": [
    {
     "data": {
      "text/html": [
       "<div>\n",
       "<style scoped>\n",
       "    .dataframe tbody tr th:only-of-type {\n",
       "        vertical-align: middle;\n",
       "    }\n",
       "\n",
       "    .dataframe tbody tr th {\n",
       "        vertical-align: top;\n",
       "    }\n",
       "\n",
       "    .dataframe thead th {\n",
       "        text-align: right;\n",
       "    }\n",
       "</style>\n",
       "<table border=\"1\" class=\"dataframe\">\n",
       "  <thead>\n",
       "    <tr style=\"text-align: right;\">\n",
       "      <th></th>\n",
       "      <th>cgpa</th>\n",
       "      <th>iq</th>\n",
       "      <th>placement</th>\n",
       "    </tr>\n",
       "  </thead>\n",
       "  <tbody>\n",
       "    <tr>\n",
       "      <th>0</th>\n",
       "      <td>6.8</td>\n",
       "      <td>123.0</td>\n",
       "      <td>1</td>\n",
       "    </tr>\n",
       "    <tr>\n",
       "      <th>1</th>\n",
       "      <td>5.9</td>\n",
       "      <td>106.0</td>\n",
       "      <td>0</td>\n",
       "    </tr>\n",
       "    <tr>\n",
       "      <th>2</th>\n",
       "      <td>5.3</td>\n",
       "      <td>121.0</td>\n",
       "      <td>0</td>\n",
       "    </tr>\n",
       "    <tr>\n",
       "      <th>3</th>\n",
       "      <td>7.4</td>\n",
       "      <td>132.0</td>\n",
       "      <td>1</td>\n",
       "    </tr>\n",
       "    <tr>\n",
       "      <th>4</th>\n",
       "      <td>5.8</td>\n",
       "      <td>142.0</td>\n",
       "      <td>0</td>\n",
       "    </tr>\n",
       "    <tr>\n",
       "      <th>...</th>\n",
       "      <td>...</td>\n",
       "      <td>...</td>\n",
       "      <td>...</td>\n",
       "    </tr>\n",
       "    <tr>\n",
       "      <th>95</th>\n",
       "      <td>4.3</td>\n",
       "      <td>200.0</td>\n",
       "      <td>0</td>\n",
       "    </tr>\n",
       "    <tr>\n",
       "      <th>96</th>\n",
       "      <td>4.4</td>\n",
       "      <td>42.0</td>\n",
       "      <td>0</td>\n",
       "    </tr>\n",
       "    <tr>\n",
       "      <th>97</th>\n",
       "      <td>6.7</td>\n",
       "      <td>182.0</td>\n",
       "      <td>1</td>\n",
       "    </tr>\n",
       "    <tr>\n",
       "      <th>98</th>\n",
       "      <td>6.3</td>\n",
       "      <td>103.0</td>\n",
       "      <td>1</td>\n",
       "    </tr>\n",
       "    <tr>\n",
       "      <th>99</th>\n",
       "      <td>6.2</td>\n",
       "      <td>113.0</td>\n",
       "      <td>1</td>\n",
       "    </tr>\n",
       "  </tbody>\n",
       "</table>\n",
       "<p>100 rows × 3 columns</p>\n",
       "</div>"
      ],
      "text/plain": [
       "    cgpa     iq  placement\n",
       "0    6.8  123.0          1\n",
       "1    5.9  106.0          0\n",
       "2    5.3  121.0          0\n",
       "3    7.4  132.0          1\n",
       "4    5.8  142.0          0\n",
       "..   ...    ...        ...\n",
       "95   4.3  200.0          0\n",
       "96   4.4   42.0          0\n",
       "97   6.7  182.0          1\n",
       "98   6.3  103.0          1\n",
       "99   6.2  113.0          1\n",
       "\n",
       "[100 rows x 3 columns]"
      ]
     },
     "execution_count": 6,
     "metadata": {},
     "output_type": "execute_result"
    }
   ],
   "source": [
    "df"
   ]
  },
  {
   "cell_type": "markdown",
   "id": "2f075e4d",
   "metadata": {},
   "source": [
    "## STEPS TO FOLLOW:\n",
    "\n",
    "\n",
    "### Step1: Remove the unnecesaary columns by preprocessing + EDA + Featire Columns\n",
    "\n",
    "### Step2: Extract Input output columns\n",
    "\n",
    "### Step3: Scale the values\n",
    "\n",
    "### Step4: Train Test split\n",
    "\n",
    "### Step5: Train the model\n",
    "\n",
    "### Step6: Evaluate the model/model selection\n",
    "\n",
    "### Step7: Deploy the model"
   ]
  },
  {
   "cell_type": "code",
   "execution_count": 7,
   "id": "0797d044",
   "metadata": {},
   "outputs": [],
   "source": [
    "# EDA:\n",
    "\n",
    "import matplotlib.pyplot as plt"
   ]
  },
  {
   "cell_type": "code",
   "execution_count": 8,
   "id": "64fc5562",
   "metadata": {},
   "outputs": [
    {
     "data": {
      "text/plain": [
       "<matplotlib.collections.PathCollection at 0x1cb733fa500>"
      ]
     },
     "execution_count": 8,
     "metadata": {},
     "output_type": "execute_result"
    },
    {
     "data": {
      "image/png": "[encoded data removed]",
      "text/plain": [
       "<Figure size 640x480 with 1 Axes>"
      ]
     },
     "metadata": {},
     "output_type": "display_data"
    }
   ],
   "source": [
    "plt.scatter(df['cgpa'],df['iq'])\n",
    "\n",
    "# Shows the destribution of the data in a scatter plot:\n",
    "# We can see that low cgpa but high IQ a mad genious may be."
   ]
  },
  {
   "cell_type": "code",
   "execution_count": 9,
   "id": "92952473",
   "metadata": {},
   "outputs": [
    {
     "data": {
      "text/plain": [
       "<matplotlib.collections.PathCollection at 0x1cb756437f0>"
      ]
     },
     "execution_count": 9,
     "metadata": {},
     "output_type": "execute_result"
    },
    {
     "data": {
      "image/png": "[encoded data removed]",
      "text/plain": [
       "<Figure size 640x480 with 1 Axes>"
      ]
     },
     "metadata": {},
     "output_type": "display_data"
    }
   ],
   "source": [
    "# To show whi got placed and who doesnt:\n",
    "\n",
    "plt.scatter(df['cgpa'],df['iq'],c=df['placement'])\n",
    "\n",
    "# Yollow are placed."
   ]
  },
  {
   "cell_type": "code",
   "execution_count": 10,
   "id": "715381c4",
   "metadata": {},
   "outputs": [],
   "source": [
    "# Need to make a ML model who can predict the reason or equation who will get placed: Using logistic regression.\n",
    "# EDA: This data is linear hence can be seperated by single line hence logistic regression can be used.\n",
    "\n",
    "# Step2: Seperate the input and output values:\n",
    "\n",
    "# Here in the tables input are cgpa and iq and output is placement.\n",
    "\n",
    "# Now input variables are also called as INDEPENDENT VARIABLE. As we assune that there is no relation between both the input variable.\n",
    "# Output variables are called as dependent variables as this is dependent on the input variables.\n",
    "\n",
    "# Seperating the input and output columns:\n",
    "\n",
    "X=df.iloc[:,0:2]\n",
    "\n",
    "# Will have all the rows but the columns will come 0 and 1 2 will be OMITTED.\n"
   ]
  },
  {
   "cell_type": "code",
   "execution_count": 11,
   "id": "1060740d",
   "metadata": {},
   "outputs": [],
   "source": [
    "Y=df.iloc[:,-1]\n",
    "\n",
    "# Here we need the last column only hence we use -1."
   ]
  },
  {
   "cell_type": "code",
   "execution_count": 12,
   "id": "4ed4df30",
   "metadata": {},
   "outputs": [
    {
     "data": {
      "text/html": [
       "<div>\n",
       "<style scoped>\n",
       "    .dataframe tbody tr th:only-of-type {\n",
       "        vertical-align: middle;\n",
       "    }\n",
       "\n",
       "    .dataframe tbody tr th {\n",
       "        vertical-align: top;\n",
       "    }\n",
       "\n",
       "    .dataframe thead th {\n",
       "        text-align: right;\n",
       "    }\n",
       "</style>\n",
       "<table border=\"1\" class=\"dataframe\">\n",
       "  <thead>\n",
       "    <tr style=\"text-align: right;\">\n",
       "      <th></th>\n",
       "      <th>cgpa</th>\n",
       "      <th>iq</th>\n",
       "    </tr>\n",
       "  </thead>\n",
       "  <tbody>\n",
       "    <tr>\n",
       "      <th>0</th>\n",
       "      <td>6.8</td>\n",
       "      <td>123.0</td>\n",
       "    </tr>\n",
       "    <tr>\n",
       "      <th>1</th>\n",
       "      <td>5.9</td>\n",
       "      <td>106.0</td>\n",
       "    </tr>\n",
       "    <tr>\n",
       "      <th>2</th>\n",
       "      <td>5.3</td>\n",
       "      <td>121.0</td>\n",
       "    </tr>\n",
       "    <tr>\n",
       "      <th>3</th>\n",
       "      <td>7.4</td>\n",
       "      <td>132.0</td>\n",
       "    </tr>\n",
       "    <tr>\n",
       "      <th>4</th>\n",
       "      <td>5.8</td>\n",
       "      <td>142.0</td>\n",
       "    </tr>\n",
       "    <tr>\n",
       "      <th>...</th>\n",
       "      <td>...</td>\n",
       "      <td>...</td>\n",
       "    </tr>\n",
       "    <tr>\n",
       "      <th>95</th>\n",
       "      <td>4.3</td>\n",
       "      <td>200.0</td>\n",
       "    </tr>\n",
       "    <tr>\n",
       "      <th>96</th>\n",
       "      <td>4.4</td>\n",
       "      <td>42.0</td>\n",
       "    </tr>\n",
       "    <tr>\n",
       "      <th>97</th>\n",
       "      <td>6.7</td>\n",
       "      <td>182.0</td>\n",
       "    </tr>\n",
       "    <tr>\n",
       "      <th>98</th>\n",
       "      <td>6.3</td>\n",
       "      <td>103.0</td>\n",
       "    </tr>\n",
       "    <tr>\n",
       "      <th>99</th>\n",
       "      <td>6.2</td>\n",
       "      <td>113.0</td>\n",
       "    </tr>\n",
       "  </tbody>\n",
       "</table>\n",
       "<p>100 rows × 2 columns</p>\n",
       "</div>"
      ],
      "text/plain": [
       "    cgpa     iq\n",
       "0    6.8  123.0\n",
       "1    5.9  106.0\n",
       "2    5.3  121.0\n",
       "3    7.4  132.0\n",
       "4    5.8  142.0\n",
       "..   ...    ...\n",
       "95   4.3  200.0\n",
       "96   4.4   42.0\n",
       "97   6.7  182.0\n",
       "98   6.3  103.0\n",
       "99   6.2  113.0\n",
       "\n",
       "[100 rows x 2 columns]"
      ]
     },
     "execution_count": 12,
     "metadata": {},
     "output_type": "execute_result"
    }
   ],
   "source": [
    "X"
   ]
  },
  {
   "cell_type": "code",
   "execution_count": 13,
   "id": "7161d57f",
   "metadata": {},
   "outputs": [
    {
     "data": {
      "text/plain": [
       "0     1\n",
       "1     0\n",
       "2     0\n",
       "3     1\n",
       "4     0\n",
       "     ..\n",
       "95    0\n",
       "96    0\n",
       "97    1\n",
       "98    1\n",
       "99    1\n",
       "Name: placement, Length: 100, dtype: int64"
      ]
     },
     "execution_count": 13,
     "metadata": {},
     "output_type": "execute_result"
    }
   ],
   "source": [
    "Y"
   ]
  },
  {
   "cell_type": "code",
   "execution_count": 14,
   "id": "eb12e5c8",
   "metadata": {},
   "outputs": [
    {
     "data": {
      "text/plain": [
       "(100, 2)"
      ]
     },
     "execution_count": 14,
     "metadata": {},
     "output_type": "execute_result"
    }
   ],
   "source": [
    "X.shape\n",
    "\n",
    "# 2 D tensor: matrix: collection of vectors: 100 vectors"
   ]
  },
  {
   "cell_type": "code",
   "execution_count": 15,
   "id": "133e3b71",
   "metadata": {},
   "outputs": [
    {
     "data": {
      "text/plain": [
       "(100,)"
      ]
     },
     "execution_count": 15,
     "metadata": {},
     "output_type": "execute_result"
    }
   ],
   "source": [
    "Y.shape\n",
    "\n",
    "# 1 D tensor: vector: collectionof scalar"
   ]
  },
  {
   "cell_type": "code",
   "execution_count": 16,
   "id": "3b1f40a9",
   "metadata": {},
   "outputs": [],
   "source": [
    "# Step4: Train test split: To show the different values which gets splitted then do the scalling.\n",
    "\n",
    "from sklearn.model_selection import train_test_split\n",
    "\n",
    "# Here from the package we need a function called as train_test_split(ip_variable_dataframe,op_variable_dataframe,test_size=value)\n",
    "\n",
    "# testsize is a value which shows how much value is needed to be send in test data will be PROVIDED in DECIMAL FORMAT. 0.1=10%"
   ]
  },
  {
   "cell_type": "code",
   "execution_count": 17,
   "id": "34d00423",
   "metadata": {},
   "outputs": [
    {
     "data": {
      "text/plain": [
       "[    cgpa     iq\n",
       " 44   7.5   61.0\n",
       " 35   6.8   90.0\n",
       " 55   7.8  114.0\n",
       " 71   6.1  132.0\n",
       " 63   6.3  128.0\n",
       " ..   ...    ...\n",
       " 8    6.1  156.0\n",
       " 56   6.1   65.0\n",
       " 13   6.4  116.0\n",
       " 21   7.1  151.0\n",
       " 83   7.5  130.0\n",
       " \n",
       " [90 rows x 2 columns],\n",
       "     cgpa     iq\n",
       " 48   6.6  138.0\n",
       " 52   7.0  175.0\n",
       " 62   6.0  102.0\n",
       " 17   3.3  183.0\n",
       " 45   6.0   66.0\n",
       " 29   7.0  112.0\n",
       " 19   5.2  132.0\n",
       " 76   4.9  155.0\n",
       " 49   5.4  135.0\n",
       " 66   6.9   96.0,\n",
       " 44    1\n",
       " 35    1\n",
       " 55    1\n",
       " 71    1\n",
       " 63    1\n",
       "      ..\n",
       " 8     0\n",
       " 56    0\n",
       " 13    1\n",
       " 21    1\n",
       " 83    1\n",
       " Name: placement, Length: 90, dtype: int64,\n",
       " 48    1\n",
       " 52    1\n",
       " 62    0\n",
       " 17    0\n",
       " 45    1\n",
       " 29    1\n",
       " 19    0\n",
       " 76    0\n",
       " 49    0\n",
       " 66    1\n",
       " Name: placement, dtype: int64]"
      ]
     },
     "execution_count": 17,
     "metadata": {},
     "output_type": "execute_result"
    }
   ],
   "source": [
    "train_test_split(X,Y,test_size=0.1)"
   ]
  },
  {
   "cell_type": "code",
   "execution_count": 18,
   "id": "d35bfe75",
   "metadata": {},
   "outputs": [],
   "source": [
    "X_train,X_test,Y_train,Y_test=train_test_split(X,Y,test_size=0.1)"
   ]
  },
  {
   "cell_type": "code",
   "execution_count": 19,
   "id": "380f2a78",
   "metadata": {},
   "outputs": [
    {
     "data": {
      "text/html": [
       "<div>\n",
       "<style scoped>\n",
       "    .dataframe tbody tr th:only-of-type {\n",
       "        vertical-align: middle;\n",
       "    }\n",
       "\n",
       "    .dataframe tbody tr th {\n",
       "        vertical-align: top;\n",
       "    }\n",
       "\n",
       "    .dataframe thead th {\n",
       "        text-align: right;\n",
       "    }\n",
       "</style>\n",
       "<table border=\"1\" class=\"dataframe\">\n",
       "  <thead>\n",
       "    <tr style=\"text-align: right;\">\n",
       "      <th></th>\n",
       "      <th>cgpa</th>\n",
       "      <th>iq</th>\n",
       "    </tr>\n",
       "  </thead>\n",
       "  <tbody>\n",
       "    <tr>\n",
       "      <th>2</th>\n",
       "      <td>5.3</td>\n",
       "      <td>121.0</td>\n",
       "    </tr>\n",
       "    <tr>\n",
       "      <th>8</th>\n",
       "      <td>6.1</td>\n",
       "      <td>156.0</td>\n",
       "    </tr>\n",
       "    <tr>\n",
       "      <th>84</th>\n",
       "      <td>5.7</td>\n",
       "      <td>169.0</td>\n",
       "    </tr>\n",
       "    <tr>\n",
       "      <th>11</th>\n",
       "      <td>6.9</td>\n",
       "      <td>138.0</td>\n",
       "    </tr>\n",
       "    <tr>\n",
       "      <th>9</th>\n",
       "      <td>5.1</td>\n",
       "      <td>66.0</td>\n",
       "    </tr>\n",
       "    <tr>\n",
       "      <th>...</th>\n",
       "      <td>...</td>\n",
       "      <td>...</td>\n",
       "    </tr>\n",
       "    <tr>\n",
       "      <th>67</th>\n",
       "      <td>5.0</td>\n",
       "      <td>118.0</td>\n",
       "    </tr>\n",
       "    <tr>\n",
       "      <th>22</th>\n",
       "      <td>4.9</td>\n",
       "      <td>120.0</td>\n",
       "    </tr>\n",
       "    <tr>\n",
       "      <th>3</th>\n",
       "      <td>7.4</td>\n",
       "      <td>132.0</td>\n",
       "    </tr>\n",
       "    <tr>\n",
       "      <th>45</th>\n",
       "      <td>6.0</td>\n",
       "      <td>66.0</td>\n",
       "    </tr>\n",
       "    <tr>\n",
       "      <th>16</th>\n",
       "      <td>5.2</td>\n",
       "      <td>224.0</td>\n",
       "    </tr>\n",
       "  </tbody>\n",
       "</table>\n",
       "<p>90 rows × 2 columns</p>\n",
       "</div>"
      ],
      "text/plain": [
       "    cgpa     iq\n",
       "2    5.3  121.0\n",
       "8    6.1  156.0\n",
       "84   5.7  169.0\n",
       "11   6.9  138.0\n",
       "9    5.1   66.0\n",
       "..   ...    ...\n",
       "67   5.0  118.0\n",
       "22   4.9  120.0\n",
       "3    7.4  132.0\n",
       "45   6.0   66.0\n",
       "16   5.2  224.0\n",
       "\n",
       "[90 rows x 2 columns]"
      ]
     },
     "execution_count": 19,
     "metadata": {},
     "output_type": "execute_result"
    }
   ],
   "source": [
    "X_train"
   ]
  },
  {
   "cell_type": "code",
   "execution_count": 20,
   "id": "8f5cac49",
   "metadata": {},
   "outputs": [
    {
     "data": {
      "text/html": [
       "<div>\n",
       "<style scoped>\n",
       "    .dataframe tbody tr th:only-of-type {\n",
       "        vertical-align: middle;\n",
       "    }\n",
       "\n",
       "    .dataframe tbody tr th {\n",
       "        vertical-align: top;\n",
       "    }\n",
       "\n",
       "    .dataframe thead th {\n",
       "        text-align: right;\n",
       "    }\n",
       "</style>\n",
       "<table border=\"1\" class=\"dataframe\">\n",
       "  <thead>\n",
       "    <tr style=\"text-align: right;\">\n",
       "      <th></th>\n",
       "      <th>cgpa</th>\n",
       "      <th>iq</th>\n",
       "    </tr>\n",
       "  </thead>\n",
       "  <tbody>\n",
       "    <tr>\n",
       "      <th>98</th>\n",
       "      <td>6.3</td>\n",
       "      <td>103.0</td>\n",
       "    </tr>\n",
       "    <tr>\n",
       "      <th>31</th>\n",
       "      <td>3.9</td>\n",
       "      <td>109.0</td>\n",
       "    </tr>\n",
       "    <tr>\n",
       "      <th>99</th>\n",
       "      <td>6.2</td>\n",
       "      <td>113.0</td>\n",
       "    </tr>\n",
       "    <tr>\n",
       "      <th>87</th>\n",
       "      <td>5.7</td>\n",
       "      <td>132.0</td>\n",
       "    </tr>\n",
       "    <tr>\n",
       "      <th>7</th>\n",
       "      <td>5.0</td>\n",
       "      <td>63.0</td>\n",
       "    </tr>\n",
       "    <tr>\n",
       "      <th>42</th>\n",
       "      <td>7.6</td>\n",
       "      <td>89.0</td>\n",
       "    </tr>\n",
       "    <tr>\n",
       "      <th>10</th>\n",
       "      <td>6.0</td>\n",
       "      <td>45.0</td>\n",
       "    </tr>\n",
       "    <tr>\n",
       "      <th>59</th>\n",
       "      <td>4.8</td>\n",
       "      <td>112.0</td>\n",
       "    </tr>\n",
       "    <tr>\n",
       "      <th>76</th>\n",
       "      <td>4.9</td>\n",
       "      <td>155.0</td>\n",
       "    </tr>\n",
       "    <tr>\n",
       "      <th>15</th>\n",
       "      <td>5.1</td>\n",
       "      <td>176.0</td>\n",
       "    </tr>\n",
       "  </tbody>\n",
       "</table>\n",
       "</div>"
      ],
      "text/plain": [
       "    cgpa     iq\n",
       "98   6.3  103.0\n",
       "31   3.9  109.0\n",
       "99   6.2  113.0\n",
       "87   5.7  132.0\n",
       "7    5.0   63.0\n",
       "42   7.6   89.0\n",
       "10   6.0   45.0\n",
       "59   4.8  112.0\n",
       "76   4.9  155.0\n",
       "15   5.1  176.0"
      ]
     },
     "execution_count": 20,
     "metadata": {},
     "output_type": "execute_result"
    }
   ],
   "source": [
    "X_test"
   ]
  },
  {
   "cell_type": "code",
   "execution_count": 21,
   "id": "5e7e31c8",
   "metadata": {},
   "outputs": [
    {
     "data": {
      "text/plain": [
       "2     0\n",
       "8     0\n",
       "84    0\n",
       "11    1\n",
       "9     0\n",
       "     ..\n",
       "67    0\n",
       "22    0\n",
       "3     1\n",
       "45    1\n",
       "16    0\n",
       "Name: placement, Length: 90, dtype: int64"
      ]
     },
     "execution_count": 21,
     "metadata": {},
     "output_type": "execute_result"
    }
   ],
   "source": [
    "Y_train"
   ]
  },
  {
   "cell_type": "code",
   "execution_count": 22,
   "id": "a3784109",
   "metadata": {},
   "outputs": [
    {
     "data": {
      "text/plain": [
       "98    1\n",
       "31    0\n",
       "99    1\n",
       "87    1\n",
       "7     0\n",
       "42    1\n",
       "10    1\n",
       "59    0\n",
       "76    0\n",
       "15    0\n",
       "Name: placement, dtype: int64"
      ]
     },
     "execution_count": 22,
     "metadata": {},
     "output_type": "execute_result"
    }
   ],
   "source": [
    "Y_test"
   ]
  },
  {
   "cell_type": "code",
   "execution_count": 23,
   "id": "63605a77",
   "metadata": {},
   "outputs": [],
   "source": [
    "# Step3: Scaling: After scaling all the values will be in between 0 to 1 and it will be convtered into an array hence row number cannot be seen due to which we need to do train test split first.\n",
    "\n",
    "from sklearn.preprocessing import StandardScaler\n",
    "\n",
    "# Here StandardScalar is a class for which we need to create an object."
   ]
  },
  {
   "cell_type": "code",
   "execution_count": 24,
   "id": "9e316b5a",
   "metadata": {},
   "outputs": [],
   "source": [
    "scaler=StandardScaler()\n",
    "\n",
    "# Scaler will scale that is will bring the value between 0 to 1 for all the INPUT columns or INPUT FEATURES."
   ]
  },
  {
   "cell_type": "code",
   "execution_count": 25,
   "id": "bda72652",
   "metadata": {},
   "outputs": [],
   "source": [
    "X_train=scaler.fit_transform(X_train)"
   ]
  },
  {
   "cell_type": "code",
   "execution_count": 26,
   "id": "3aaed6c3",
   "metadata": {},
   "outputs": [
    {
     "data": {
      "text/plain": [
       "array([[-0.64710108, -0.10377304],\n",
       "       [ 0.05246765,  0.77731882],\n",
       "       [-0.29731671,  1.10458151],\n",
       "       [ 0.75203639,  0.32418586],\n",
       "       [-0.82199326, -1.48834596],\n",
       "       [-1.78390027, -1.26177948],\n",
       "       [-0.73454717, -0.38068762],\n",
       "       [-0.20987062,  1.02905935],\n",
       "       [-0.99688544,  0.65144855],\n",
       "       [ 0.48969811,  0.32418586],\n",
       "       [ 1.97628167,  1.07940745],\n",
       "       [-0.29731671,  0.37453397],\n",
       "       [ 0.6645903 , -0.33033952],\n",
       "       [-0.99688544,  0.22348965],\n",
       "       [ 0.40225202, -2.2183935 ],\n",
       "       [ 0.31480593, -0.22964331],\n",
       "       [-0.73454717, -0.88416869],\n",
       "       [ 0.48969811, -0.12894709],\n",
       "       [ 0.83948248, -1.53869407],\n",
       "       [ 1.36415903,  0.07244533],\n",
       "       [-1.17177763, -0.10377304],\n",
       "       [-0.90943935, -0.85899463],\n",
       "       [-0.03497844,  0.60110044],\n",
       "       [ 1.71394339, -1.16108327],\n",
       "       [-1.08433153,  1.10458151],\n",
       "       [-0.55965499,  0.34935991],\n",
       "       [ 1.10182075, -0.9848649 ],\n",
       "       [ 0.05246765,  0.17314154],\n",
       "       [ 0.31480593,  0.39970802],\n",
       "       [-0.73454717,  0.17314154],\n",
       "       [-0.82199326,  0.07244533],\n",
       "       [-0.99688544,  1.78428094],\n",
       "       [ 0.22735984,  0.07244533],\n",
       "       [ 0.40225202, -0.88416869],\n",
       "       [-1.25922372,  0.52557829],\n",
       "       [ 0.22735984,  0.04727128],\n",
       "       [ 0.40225202,  0.87801503],\n",
       "       [ 0.5771442 ,  0.72697071],\n",
       "       [-1.52156199,  1.88497715],\n",
       "       [ 1.80138949,  1.02905935],\n",
       "       [ 0.92692857,  0.65144855],\n",
       "       [ 0.83948248, -0.33033952],\n",
       "       [ 1.10182075,  0.29901181],\n",
       "       [ 0.05246765, -1.51352001],\n",
       "       [-0.29731671,  0.45005613],\n",
       "       [-1.17177763, -0.95969085],\n",
       "       [-0.20987062,  0.42488207],\n",
       "       [ 1.27671294, -1.61421622],\n",
       "       [ 0.05246765, -0.556906  ],\n",
       "       [ 0.6645903 ,  0.39970802],\n",
       "       [ 2.15117385, -0.12894709],\n",
       "       [ 1.80138949,  0.60110044],\n",
       "       [ 0.75203639,  0.34935991],\n",
       "       [-1.4341159 , -2.09252323],\n",
       "       [ 0.83948248,  1.25562582],\n",
       "       [-1.08433153,  0.39970802],\n",
       "       [-0.55965499,  0.2486637 ],\n",
       "       [-1.4341159 ,  0.60110044],\n",
       "       [-2.22113072,  2.7157209 ],\n",
       "       [-0.55965499, -0.45620978],\n",
       "       [ 1.27671294,  0.12279344],\n",
       "       [ 0.83948248,  1.8598031 ],\n",
       "       [-0.73454717,  0.90318908],\n",
       "       [-1.78390027, -0.63242816],\n",
       "       [ 0.05246765, -1.11073516],\n",
       "       [ 1.10182075, -1.89113081],\n",
       "       [-0.99688544, -1.61421622],\n",
       "       [ 0.5771442 ,  1.4318442 ],\n",
       "       [-0.55965499, -0.27999141],\n",
       "       [-1.17177763, -1.8407827 ],\n",
       "       [-0.64710108, -0.27999141],\n",
       "       [ 0.83948248,  0.34935991],\n",
       "       [-1.08433153,  0.95353719],\n",
       "       [-0.12242453, -0.48138384],\n",
       "       [ 1.27671294,  0.82766692],\n",
       "       [ 0.92692857, -1.94147891],\n",
       "       [ 0.75203639, -0.73312437],\n",
       "       [ 0.40225202,  0.12279344],\n",
       "       [-2.39602291,  1.45701825],\n",
       "       [ 1.53905121, -0.27999141],\n",
       "       [ 1.10182075, -0.22964331],\n",
       "       [ 0.6645903 , -0.88416869],\n",
       "       [ 0.6645903 , -0.05342493],\n",
       "       [-0.03497844, -0.02825088],\n",
       "       [-0.03497844, -0.58208005],\n",
       "       [-0.90943935, -0.1792952 ],\n",
       "       [-0.99688544, -0.12894709],\n",
       "       [ 1.18926684,  0.17314154],\n",
       "       [-0.03497844, -1.48834596],\n",
       "       [-0.73454717,  2.48915442]])"
      ]
     },
     "execution_count": 26,
     "metadata": {},
     "output_type": "execute_result"
    }
   ],
   "source": [
    "X_train\n",
    "\n",
    "# All are between o and 1 now."
   ]
  },
  {
   "cell_type": "code",
   "execution_count": 27,
   "id": "6ad4570f",
   "metadata": {},
   "outputs": [],
   "source": [
    "X_test=scaler.fit_transform(X_test)"
   ]
  },
  {
   "cell_type": "code",
   "execution_count": 28,
   "id": "d82ce937",
   "metadata": {},
   "outputs": [
    {
     "data": {
      "text/plain": [
       "array([[ 0.76447079, -0.18034422],\n",
       "       [-1.68183573, -0.01884193],\n",
       "       [ 0.66254135,  0.08882626],\n",
       "       [ 0.15289416,  0.60025015],\n",
       "       [-0.56061191, -1.2570261 ],\n",
       "       [ 2.08955348, -0.55718288],\n",
       "       [ 0.45868247, -1.74153295],\n",
       "       [-0.76447079,  0.06190921],\n",
       "       [-0.66254135,  1.21934224],\n",
       "       [-0.45868247,  1.78460023]])"
      ]
     },
     "execution_count": 28,
     "metadata": {},
     "output_type": "execute_result"
    }
   ],
   "source": [
    "X_test"
   ]
  },
  {
   "cell_type": "code",
   "execution_count": 29,
   "id": "d09b9515",
   "metadata": {},
   "outputs": [],
   "source": [
    "# Train the model:\n",
    "\n",
    "# Now here we are using logistic regression:\n",
    "\n",
    "from sklearn.linear_model import LogisticRegression"
   ]
  },
  {
   "cell_type": "code",
   "execution_count": 30,
   "id": "0f1b381b",
   "metadata": {},
   "outputs": [],
   "source": [
    "# Creating an object from logistic regression:\n",
    "\n",
    "clf= LogisticRegression()"
   ]
  },
  {
   "cell_type": "code",
   "execution_count": 31,
   "id": "ebad4c2e",
   "metadata": {},
   "outputs": [
    {
     "data": {
      "text/html": [
       "<style>#sk-container-id-1 {color: black;background-color: white;}#sk-container-id-1 pre{padding: 0;}#sk-container-id-1 div.sk-toggleable {background-color: white;}#sk-container-id-1 label.sk-toggleable__label {cursor: pointer;display: block;width: 100%;margin-bottom: 0;padding: 0.3em;box-sizing: border-box;text-align: center;}#sk-container-id-1 label.sk-toggleable__label-arrow:before {content: \"▸\";float: left;margin-right: 0.25em;color: #696969;}#sk-container-id-1 label.sk-toggleable__label-arrow:hover:before {color: black;}#sk-container-id-1 div.sk-estimator:hover label.sk-toggleable__label-arrow:before {color: black;}#sk-container-id-1 div.sk-toggleable__content {max-height: 0;max-width: 0;overflow: hidden;text-align: left;background-color: #f0f8ff;}#sk-container-id-1 div.sk-toggleable__content pre {margin: 0.2em;color: black;border-radius: 0.25em;background-color: #f0f8ff;}#sk-container-id-1 input.sk-toggleable__control:checked~div.sk-toggleable__content {max-height: 200px;max-width: 100%;overflow: auto;}#sk-container-id-1 input.sk-toggleable__control:checked~label.sk-toggleable__label-arrow:before {content: \"▾\";}#sk-container-id-1 div.sk-estimator input.sk-toggleable__control:checked~label.sk-toggleable__label {background-color: #d4ebff;}#sk-container-id-1 div.sk-label input.sk-toggleable__control:checked~label.sk-toggleable__label {background-color: #d4ebff;}#sk-container-id-1 input.sk-hidden--visually {border: 0;clip: rect(1px 1px 1px 1px);clip: rect(1px, 1px, 1px, 1px);height: 1px;margin: -1px;overflow: hidden;padding: 0;position: absolute;width: 1px;}#sk-container-id-1 div.sk-estimator {font-family: monospace;background-color: #f0f8ff;border: 1px dotted black;border-radius: 0.25em;box-sizing: border-box;margin-bottom: 0.5em;}#sk-container-id-1 div.sk-estimator:hover {background-color: #d4ebff;}#sk-container-id-1 div.sk-parallel-item::after {content: \"\";width: 100%;border-bottom: 1px solid gray;flex-grow: 1;}#sk-container-id-1 div.sk-label:hover label.sk-toggleable__label {background-color: #d4ebff;}#sk-container-id-1 div.sk-serial::before {content: \"\";position: absolute;border-left: 1px solid gray;box-sizing: border-box;top: 0;bottom: 0;left: 50%;z-index: 0;}#sk-container-id-1 div.sk-serial {display: flex;flex-direction: column;align-items: center;background-color: white;padding-right: 0.2em;padding-left: 0.2em;position: relative;}#sk-container-id-1 div.sk-item {position: relative;z-index: 1;}#sk-container-id-1 div.sk-parallel {display: flex;align-items: stretch;justify-content: center;background-color: white;position: relative;}#sk-container-id-1 div.sk-item::before, #sk-container-id-1 div.sk-parallel-item::before {content: \"\";position: absolute;border-left: 1px solid gray;box-sizing: border-box;top: 0;bottom: 0;left: 50%;z-index: -1;}#sk-container-id-1 div.sk-parallel-item {display: flex;flex-direction: column;z-index: 1;position: relative;background-color: white;}#sk-container-id-1 div.sk-parallel-item:first-child::after {align-self: flex-end;width: 50%;}#sk-container-id-1 div.sk-parallel-item:last-child::after {align-self: flex-start;width: 50%;}#sk-container-id-1 div.sk-parallel-item:only-child::after {width: 0;}#sk-container-id-1 div.sk-dashed-wrapped {border: 1px dashed gray;margin: 0 0.4em 0.5em 0.4em;box-sizing: border-box;padding-bottom: 0.4em;background-color: white;}#sk-container-id-1 div.sk-label label {font-family: monospace;font-weight: bold;display: inline-block;line-height: 1.2em;}#sk-container-id-1 div.sk-label-container {text-align: center;}#sk-container-id-1 div.sk-container {/* jupyter's `normalize.less` sets `[hidden] { display: none; }` but bootstrap.min.css set `[hidden] { display: none !important; }` so we also need the `!important` here to be able to override the default hidden behavior on the sphinx rendered scikit-learn.org. See: https://github.com/scikit-learn/scikit-learn/issues/21755 */display: inline-block !important;position: relative;}#sk-container-id-1 div.sk-text-repr-fallback {display: none;}</style><div id=\"sk-container-id-1\" class=\"sk-top-container\"><div class=\"sk-text-repr-fallback\"><pre>LogisticRegression()</pre><b>In a Jupyter environment, please rerun this cell to show the HTML representation or trust the notebook. <br />On GitHub, the HTML representation is unable to render, please try loading this page with nbviewer.org.</b></div><div class=\"sk-container\" hidden><div class=\"sk-item\"><div class=\"sk-estimator sk-toggleable\"><input class=\"sk-toggleable__control sk-hidden--visually\" id=\"sk-estimator-id-1\" type=\"checkbox\" checked><label for=\"sk-estimator-id-1\" class=\"sk-toggleable__label sk-toggleable__label-arrow\">LogisticRegression</label><div class=\"sk-toggleable__content\"><pre>LogisticRegression()</pre></div></div></div></div></div>"
      ],
      "text/plain": [
       "LogisticRegression()"
      ]
     },
     "execution_count": 31,
     "metadata": {},
     "output_type": "execute_result"
    }
   ],
   "source": [
    "# Model Train:\n",
    "\n",
    "clf.fit(X_train,Y_train)"
   ]
  },
  {
   "cell_type": "code",
   "execution_count": 32,
   "id": "a740f0f2",
   "metadata": {},
   "outputs": [],
   "source": [
    "# Evaluate the model:\n",
    "\n",
    "# Here we calculate the accuracy:\n",
    "\n",
    "y_pred=clf.predict(X_test)\n",
    "\n",
    "# This is 10 percent values hence our model is predicting the values here.That is it is predicting the result which will come and how much it is allined to Y_test."
   ]
  },
  {
   "cell_type": "code",
   "execution_count": 33,
   "id": "7a33d2a4",
   "metadata": {},
   "outputs": [
    {
     "data": {
      "text/plain": [
       "98    1\n",
       "31    0\n",
       "99    1\n",
       "87    1\n",
       "7     0\n",
       "42    1\n",
       "10    1\n",
       "59    0\n",
       "76    0\n",
       "15    0\n",
       "Name: placement, dtype: int64"
      ]
     },
     "execution_count": 33,
     "metadata": {},
     "output_type": "execute_result"
    }
   ],
   "source": [
    "Y_test"
   ]
  },
  {
   "cell_type": "code",
   "execution_count": 34,
   "id": "96b1f18b",
   "metadata": {},
   "outputs": [],
   "source": [
    "# To find the accuracy that is how much correctly my model is predicting we need to calculate the accuracy score.\n",
    "\n",
    "from sklearn.metrics import accuracy_score"
   ]
  },
  {
   "cell_type": "code",
   "execution_count": 35,
   "id": "c150ff5e",
   "metadata": {},
   "outputs": [
    {
     "data": {
      "text/plain": [
       "1.0"
      ]
     },
     "execution_count": 35,
     "metadata": {},
     "output_type": "execute_result"
    }
   ],
   "source": [
    "accuracy_score(Y_test,y_pred)\n",
    "\n",
    "# This shows 100 % accuracy."
   ]
  },
  {
   "cell_type": "code",
   "execution_count": 36,
   "id": "431e457c",
   "metadata": {},
   "outputs": [
    {
     "data": {
      "text/plain": [
       "array([1, 0, 1, 1, 0, 1, 1, 0, 0, 0], dtype=int64)"
      ]
     },
     "execution_count": 36,
     "metadata": {},
     "output_type": "execute_result"
    }
   ],
   "source": [
    "clf.predict(X_test)"
   ]
  },
  {
   "cell_type": "code",
   "execution_count": 37,
   "id": "bf4263f2",
   "metadata": {},
   "outputs": [],
   "source": [
    "# Now how to chwck the decision boundaries:\n",
    "\n",
    "# Which pattern os noticed by my model to reach to this accucracy:\n",
    "\n",
    "# Here we can see that the model is using linear regression hence a single line will be drawn to segregate the points:\n",
    "\n",
    "from mlxtend.plotting import plot_decision_regions"
   ]
  },
  {
   "cell_type": "code",
   "execution_count": 38,
   "id": "756ea0d5",
   "metadata": {},
   "outputs": [
    {
     "data": {
      "text/plain": [
       "<AxesSubplot: >"
      ]
     },
     "execution_count": 38,
     "metadata": {},
     "output_type": "execute_result"
    },
    {
     "data": {
      "image/png": "[encoded data removed]",
      "text/plain": [
       "<Figure size 640x480 with 1 Axes>"
      ]
     },
     "metadata": {},
     "output_type": "display_data"
    }
   ],
   "source": [
    "plot_decision_regions(X_train,Y_train.values,clf=clf,legend=2)\n",
    "\n",
    "# The parameters can only have array values and X_train is standardized and Y_train was not hence values is used."
   ]
  },
  {
   "cell_type": "code",
   "execution_count": 39,
   "id": "b22fb68c",
   "metadata": {},
   "outputs": [],
   "source": [
    "# Deploying the models:\n",
    "\n",
    "# After completing tha above steps iif we are satisfied with our model then we deploy it. For that here we use a pickle library.\n",
    "\n",
    "import pickle "
   ]
  },
  {
   "cell_type": "code",
   "execution_count": 40,
   "id": "13bd90d3",
   "metadata": {},
   "outputs": [],
   "source": [
    "pickle.dump(clf,open('model.pkl','wb'))\n",
    "\n",
    "# Here we are taking our model 'clf' and converting ot to a file 'model.pkl' with a write option 'wb'.\n",
    "\n",
    "# This can be used to be deployed in a website as this have the predict function.\n",
    "\n",
    "# After the website is ready we can deploy the model in the servies heruko AWS and GCP."
   ]
  },
  {
   "cell_type": "code",
   "execution_count": null,
   "id": "0f118975",
   "metadata": {},
   "outputs": [],
   "source": []
  }
 ],
 "metadata": {
  "kernelspec": {
   "display_name": "Python 3 (ipykernel)",
   "language": "python",
   "name": "python3"
  },
  "language_info": {
   "codemirror_mode": {
    "name": "ipython",
    "version": 3
   },
   "file_extension": ".py",
   "mimetype": "text/x-python",
   "name": "python",
   "nbconvert_exporter": "python",
   "pygments_lexer": "ipython3",
   "version": "3.10.7"
  }
 },
 "nbformat": 4,
 "nbformat_minor": 5
}
